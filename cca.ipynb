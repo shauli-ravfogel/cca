{
 "cells": [
  {
   "cell_type": "code",
   "execution_count": 1,
   "metadata": {},
   "outputs": [],
   "source": [
    "from numpy import *\n",
    "import numpy as np\n",
    "import numpy.random\n",
    "from sklearn.datasets import fetch_openml\n",
    "import sklearn.preprocessing\n",
    "import matplotlib\n",
    "import matplotlib.pyplot as plt\n",
    "%matplotlib inline\n",
    "import pandas as pd\n",
    "from numpy_cca import CCAModel\n",
    "from scipy.linalg import eig\n",
    "from sklearn.decomposition import TruncatedSVD\n",
    "from sklearn.manifold import TSNE\n",
    "import matplotlib.pyplot as plt\n",
    "from sklearn.utils import shuffle"
   ]
  },
  {
   "cell_type": "code",
   "execution_count": 2,
   "metadata": {},
   "outputs": [],
   "source": [
    "def plot(digit: np.array):\n",
    "    \"\"\"\n",
    "    plot an mnist digit.\n",
    "    \"\"\"\n",
    "    plt.figure(0)\n",
    "    plt.imshow(digit.reshape(28, 28), cmap=plt.cm.gray)\n",
    "    plt.show()\n",
    "    \n",
    "\n",
    "def get_cov(X,Y):\n",
    "    \"\"\"\n",
    "    return: the covariance matrix between X and Y\n",
    "    \"\"\"\n",
    "    mean_X = np.mean(X, axis = 0)\n",
    "    mean_Y = np.mean(Y, axis = 0)\n",
    "    X_zeromean = X - mean_X\n",
    "    Y_zeromean = Y - mean_Y\n",
    "    \n",
    "    N = len(X)\n",
    "    \n",
    "    cov = (1./N - 1)*X_zeromean.T@Y_zeromean\n",
    "    return cov"
   ]
  },
  {
   "cell_type": "markdown",
   "metadata": {},
   "source": [
    "### MNIST data"
   ]
  },
  {
   "cell_type": "code",
   "execution_count": 3,
   "metadata": {},
   "outputs": [],
   "source": [
    "data, labels = fetch_openml('mnist_784', version=1, return_X_y=True)"
   ]
  },
  {
   "cell_type": "code",
   "execution_count": 130,
   "metadata": {},
   "outputs": [
    {
     "data": {
      "image/png": "[encoded data removed]",
      "text/plain": [
       "<Figure size 432x288 with 1 Axes>"
      ]
     },
     "metadata": {
      "needs_background": "light"
     },
     "output_type": "display_data"
    },
    {
     "data": {
      "image/png": "[encoded data removed]",
      "text/plain": [
       "<Figure size 432x288 with 1 Axes>"
      ]
     },
     "metadata": {
      "needs_background": "light"
     },
     "output_type": "display_data"
    }
   ],
   "source": [
    "train_data = data[:60000].astype(float)\n",
    "train_labels = labels[:60000].astype(int)\n",
    "dev_data = data[60000:].astype(float)\n",
    "dev_labels = labels[60000:].astype(int)\n",
    "\n",
    "# normalize\n",
    "train_data /= 255.\n",
    "dev_data /= 255.\n",
    "\n",
    "# remove mean\n",
    "\n",
    "train_data = train_data - train_data.mean(axis=0, keepdims = True)\n",
    "dev_data = dev_data - dev_data.mean(axis=0, keepdims = True)\n",
    "\n",
    "# take the images of two specific digits\n",
    "DIGIT1 = 1\n",
    "DIGIT2 = 2\n",
    "\n",
    "train_digit1 = train_data[train_labels==DIGIT1]\n",
    "train_digit2 = train_data[train_labels==DIGIT2]\n",
    "n = min(len(train_digit1), len(train_digit2))\n",
    "train_digit1 = train_digit1[:n]\n",
    "train_digit2 = train_digit2[:n]\n",
    "\n",
    "# plot\n",
    "\n",
    "plot(train_digit1[0])\n",
    "plot(train_digit2[0])"
   ]
  },
  {
   "cell_type": "markdown",
   "metadata": {},
   "source": [
    "### construct 2 views for cca"
   ]
  },
  {
   "cell_type": "code",
   "execution_count": 131,
   "metadata": {},
   "outputs": [],
   "source": [
    "\n",
    "view1_digit1, view2_digit1 = list(zip(*zip(train_digit1, train_digit1[1:])))\n",
    "view1_digit1 = np.array(view1_digit1)\n",
    "view2_digit1 = np.array(view2_digit1)\n",
    "\n",
    "view1_digit2, view2_digit2 = list(zip(*zip(train_digit2, train_digit2[1:])))\n",
    "view1_digit2 = np.array(view1_digit2)\n",
    "view2_digit2 = np.array(view2_digit2)\n",
    "\n",
    "# make sure that the ith place in the two views stores the same kind of digit.\n",
    "# we expect CCA to capture directions relating to digit identity.\n",
    "view1 = np.concatenate([view1_digit1, view1_digit2]) # X\n",
    "view2 = np.concatenate([view2_digit1, view2_digit2]) # Y\n",
    "\n",
    "# construct view3 - the contrastive view - s.t it contains no corresponding digits \n",
    "view3 = np.concatenate([view2_digit2, view2_digit1])"
   ]
  },
  {
   "cell_type": "markdown",
   "metadata": {},
   "source": [
    "## Perform CCA and \"contrastive cca\""
   ]
  },
  {
   "cell_type": "code",
   "execution_count": 132,
   "metadata": {},
   "outputs": [],
   "source": [
    "NUM_DIMS=16 # how many CCA directions to take"
   ]
  },
  {
   "cell_type": "code",
   "execution_count": 133,
   "metadata": {},
   "outputs": [],
   "source": [
    "cca = CCAModel(NUM_DIMS)\n",
    "out_cca = cca(view1, view2)"
   ]
  },
  {
   "cell_type": "code",
   "execution_count": 134,
   "metadata": {},
   "outputs": [
    {
     "data": {
      "image/png": "[encoded data removed]",
      "text/plain": [
       "<Figure size 432x288 with 1 Axes>"
      ]
     },
     "metadata": {
      "needs_background": "light"
     },
     "output_type": "display_data"
    }
   ],
   "source": [
    "# A are the CCA directions for X. B are the CCA direction for Y. corr(XA, YB) is maximized. \n",
    "# Here, we take the 4th CCA direction.\n",
    "v1 = out_cca[\"B\"][4] \n",
    "# plot it\n",
    "plot(v1.T)"
   ]
  },
  {
   "cell_type": "markdown",
   "metadata": {},
   "source": [
    "### repeat above with \"contrastive cca\""
   ]
  },
  {
   "cell_type": "code",
   "execution_count": 135,
   "metadata": {},
   "outputs": [
    {
     "data": {
      "image/png": "[encoded data removed]",
      "text/plain": [
       "<Figure size 432x288 with 1 Axes>"
      ]
     },
     "metadata": {
      "needs_background": "light"
     },
     "output_type": "display_data"
    }
   ],
   "source": [
    "cov_XY = get_cov(view1, view2)\n",
    "cov_XZ = get_cov(view1, view3)\n",
    "\n",
    "A = np.linalg.pinv(cov_XZ)@cov_XY\n",
    "B = np.linalg.pinv(cov_XZ.T)@cov_XY.T\n",
    "# in the pdf we got the equations Bv_x = Rv_x and Av_y = Rv_y where R is the objective.\n",
    "# I solve by SVD of A,B although it's not clear to me whether this is justified - they are not symmetric...\n",
    "u1,s1,vt1 = np.linalg.svd(A)\n",
    "u2,s2,vt2 = np.linalg.svd(B)\n",
    "plot(vt2[4].T)"
   ]
  }
 ],
 "metadata": {
  "kernelspec": {
   "display_name": "Python 3",
   "language": "python",
   "name": "python3"
  },
  "language_info": {
   "codemirror_mode": {
    "name": "ipython",
    "version": 3
   },
   "file_extension": ".py",
   "mimetype": "text/x-python",
   "name": "python",
   "nbconvert_exporter": "python",
   "pygments_lexer": "ipython3",
   "version": "3.7.6"
  }
 },
 "nbformat": 4,
 "nbformat_minor": 4
}
